{
 "cells": [
  {
   "cell_type": "markdown",
   "metadata": {},
   "source": [
    "## Transfer acceleration json"
   ]
  },
  {
   "cell_type": "markdown",
   "metadata": {},
   "source": [
    "### Situation 1: \n",
    "Multiple data can be store in a list. This situation is not so common cuz the data is not copied from somewhere. So there is no further discussion and developed function for this situation."
   ]
  },
  {
   "cell_type": "code",
   "execution_count": 2,
   "metadata": {},
   "outputs": [
    {
     "data": {
      "text/html": [
       "<div>\n",
       "<style scoped>\n",
       "    .dataframe tbody tr th:only-of-type {\n",
       "        vertical-align: middle;\n",
       "    }\n",
       "\n",
       "    .dataframe tbody tr th {\n",
       "        vertical-align: top;\n",
       "    }\n",
       "\n",
       "    .dataframe thead th {\n",
       "        text-align: right;\n",
       "    }\n",
       "</style>\n",
       "<table border=\"1\" class=\"dataframe\">\n",
       "  <thead>\n",
       "    <tr style=\"text-align: right;\">\n",
       "      <th></th>\n",
       "      <th>temporal_relationship_to_sleep</th>\n",
       "      <th>body_temperature.value</th>\n",
       "      <th>body_temperature.unit</th>\n",
       "      <th>effective_time_frame.date_time</th>\n",
       "    </tr>\n",
       "  </thead>\n",
       "  <tbody>\n",
       "    <tr>\n",
       "      <th>0</th>\n",
       "      <td>on waking</td>\n",
       "      <td>96.5</td>\n",
       "      <td>F</td>\n",
       "      <td>2013-02-05T06:25:00Z</td>\n",
       "    </tr>\n",
       "  </tbody>\n",
       "</table>\n",
       "</div>"
      ],
      "text/plain": [
       "  temporal_relationship_to_sleep  body_temperature.value  \\\n",
       "0                      on waking                    96.5   \n",
       "\n",
       "  body_temperature.unit effective_time_frame.date_time  \n",
       "0                     F           2013-02-05T06:25:00Z  "
      ]
     },
     "execution_count": 2,
     "metadata": {},
     "output_type": "execute_result"
    }
   ],
   "source": [
    "import pandas as pd\n",
    "from pandas.io.json import json_normalize\n",
    "data = [\n",
    "{\n",
    "    \"body_temperature\": {\n",
    "        \"value\": 96.5,\n",
    "        \"unit\": \"F\"\n",
    "    },\n",
    "    \"effective_time_frame\": {\n",
    "        \"date_time\": \"2013-02-05T06:25:00Z\"\n",
    "    },\n",
    "    \"temporal_relationship_to_sleep\": \"on waking\"\n",
    "}\n",
    "]\n",
    "\n",
    "df = pd.DataFrame.from_dict(json_normalize(data), orient='columns')\n",
    "\n",
    "df   "
   ]
  },
  {
   "cell_type": "markdown",
   "metadata": {},
   "source": [
    "### Situation 2:\n",
    "Import data from outsite json file, each file include on patient information. The dataframe will stack the information from each json file."
   ]
  },
  {
   "cell_type": "code",
   "execution_count": 3,
   "metadata": {},
   "outputs": [],
   "source": [
    "import json\n",
    "\n",
    "my_dictionary = {\n",
    "    \"body_temperature\": {\n",
    "        \"value\": 96.5,\n",
    "        \"unit\": \"F\"\n",
    "    },\n",
    "    \"effective_time_frame\": {\n",
    "        \"date_time\": \"2013-02-05T06:25:00Z\"\n",
    "    },\n",
    "    \"temporal_relationship_to_sleep\": \"on waking\"\n",
    "}\n",
    "\n",
    "out_file = open(\"/Users/lubaiying/Desktop/big idea lab/body_temp_sample.json\", \"w\")\n",
    "json.dump(my_dictionary, out_file)\n",
    "out_file.close()"
   ]
  },
  {
   "cell_type": "code",
   "execution_count": 4,
   "metadata": {},
   "outputs": [],
   "source": [
    "my_dictionary2 = {\n",
    "    \"body_temperature\": {\n",
    "        \"value\": 100,\n",
    "        \"unit\": \"F\"\n",
    "    },\n",
    "    \"effective_time_frame\": {\n",
    "        \"date_time\": \"2013-02-07T08:25:00Z\"\n",
    "    },\n",
    "    \"temporal_relationship_to_sleep\": \"on waking\"\n",
    "}\n",
    "out_file = open(\"/Users/lubaiying/Desktop/big idea lab/body_temp_sample2.json\", \"w\")\n",
    "json.dump(my_dictionary2, out_file)\n",
    "out_file.close()"
   ]
  },
  {
   "cell_type": "code",
   "execution_count": 5,
   "metadata": {},
   "outputs": [
    {
     "data": {
      "text/html": [
       "<div>\n",
       "<style scoped>\n",
       "    .dataframe tbody tr th:only-of-type {\n",
       "        vertical-align: middle;\n",
       "    }\n",
       "\n",
       "    .dataframe tbody tr th {\n",
       "        vertical-align: top;\n",
       "    }\n",
       "\n",
       "    .dataframe thead th {\n",
       "        text-align: right;\n",
       "    }\n",
       "</style>\n",
       "<table border=\"1\" class=\"dataframe\">\n",
       "  <thead>\n",
       "    <tr style=\"text-align: right;\">\n",
       "      <th></th>\n",
       "      <th>temporal_relationship_to_sleep</th>\n",
       "      <th>body_temperature.value</th>\n",
       "      <th>body_temperature.unit</th>\n",
       "      <th>effective_time_frame.date_time</th>\n",
       "    </tr>\n",
       "  </thead>\n",
       "  <tbody>\n",
       "    <tr>\n",
       "      <th>0</th>\n",
       "      <td>on waking</td>\n",
       "      <td>96.5</td>\n",
       "      <td>F</td>\n",
       "      <td>2013-02-05T06:25:00Z</td>\n",
       "    </tr>\n",
       "  </tbody>\n",
       "</table>\n",
       "</div>"
      ],
      "text/plain": [
       "  temporal_relationship_to_sleep  body_temperature.value  \\\n",
       "0                      on waking                    96.5   \n",
       "\n",
       "  body_temperature.unit effective_time_frame.date_time  \n",
       "0                     F           2013-02-05T06:25:00Z  "
      ]
     },
     "execution_count": 5,
     "metadata": {},
     "output_type": "execute_result"
    }
   ],
   "source": [
    "filename = \"/Users/lubaiying/Desktop/big idea lab/body_temp_sample.json\"\n",
    "in_file = open(filename, \"r\")\n",
    "new_variable = json.load(in_file)\n",
    "in_file.close()\n",
    "df_import = pd.DataFrame.from_dict(json_normalize(new_variable), orient='columns')\n",
    "df_import"
   ]
  },
  {
   "cell_type": "code",
   "execution_count": 6,
   "metadata": {},
   "outputs": [
    {
     "data": {
      "text/html": [
       "<div>\n",
       "<style scoped>\n",
       "    .dataframe tbody tr th:only-of-type {\n",
       "        vertical-align: middle;\n",
       "    }\n",
       "\n",
       "    .dataframe tbody tr th {\n",
       "        vertical-align: top;\n",
       "    }\n",
       "\n",
       "    .dataframe thead th {\n",
       "        text-align: right;\n",
       "    }\n",
       "</style>\n",
       "<table border=\"1\" class=\"dataframe\">\n",
       "  <thead>\n",
       "    <tr style=\"text-align: right;\">\n",
       "      <th></th>\n",
       "      <th>temporal_relationship_to_sleep</th>\n",
       "      <th>body_temperature.value</th>\n",
       "      <th>body_temperature.unit</th>\n",
       "      <th>effective_time_frame.date_time</th>\n",
       "    </tr>\n",
       "  </thead>\n",
       "  <tbody>\n",
       "    <tr>\n",
       "      <th>0</th>\n",
       "      <td>on waking</td>\n",
       "      <td>96.5</td>\n",
       "      <td>F</td>\n",
       "      <td>2013-02-05T06:25:00Z</td>\n",
       "    </tr>\n",
       "    <tr>\n",
       "      <th>1</th>\n",
       "      <td>on waking</td>\n",
       "      <td>100.0</td>\n",
       "      <td>F</td>\n",
       "      <td>2013-02-07T08:25:00Z</td>\n",
       "    </tr>\n",
       "  </tbody>\n",
       "</table>\n",
       "</div>"
      ],
      "text/plain": [
       "  temporal_relationship_to_sleep  body_temperature.value  \\\n",
       "0                      on waking                    96.5   \n",
       "1                      on waking                   100.0   \n",
       "\n",
       "  body_temperature.unit effective_time_frame.date_time  \n",
       "0                     F           2013-02-05T06:25:00Z  \n",
       "1                     F           2013-02-07T08:25:00Z  "
      ]
     },
     "execution_count": 6,
     "metadata": {},
     "output_type": "execute_result"
    }
   ],
   "source": [
    "filename2 = \"/Users/lubaiying/Desktop/big idea lab/body_temp_sample2.json\"\n",
    "in_file2 = open(filename2, \"r\")\n",
    "new_variable2 = json.load(in_file2)\n",
    "df2 = pd.DataFrame.from_dict(json_normalize(new_variable2), orient='columns')\n",
    "bigdata = df_import.append(df2, ignore_index=True)\n",
    "bigdata"
   ]
  },
  {
   "cell_type": "markdown",
   "metadata": {},
   "source": [
    "#### Well defined functions\n",
    "\n",
    "In this case, the user needs to run the \"initial_sole_json\" first, when the user wants to add more data from a json file which only includes one \"row\" in dataframe, the user needs to run the \"import_new_sole_json\""
   ]
  },
  {
   "cell_type": "code",
   "execution_count": 8,
   "metadata": {},
   "outputs": [],
   "source": [
    "import pandas as pd\n",
    "from pandas.io.json import json_normalize"
   ]
  },
  {
   "cell_type": "code",
   "execution_count": 7,
   "metadata": {},
   "outputs": [],
   "source": [
    "def initial_sole_json(path):\n",
    "    \"\"\"Initialize the dataframe\n",
    "    \n",
    "    This function receives the path of the first json file \n",
    "    and use this json file to initialize the dataframe. The \n",
    "    user just need to input the path of a ramdom json file \n",
    "    formatted well with Open mHealth data schemas.\n",
    "\n",
    "    Args:\n",
    "        path (string): the path of the json file the user want to import\n",
    "\n",
    "    Returns:\n",
    "        dataframe: a pandas dataframe with data in\n",
    "    \"\"\"\n",
    "    import pandas as pd\n",
    "    from pandas.io.json import json_normalize\n",
    "    filename = path\n",
    "    in_file = open(filename, \"r\")\n",
    "    new_variable = json.load(in_file)\n",
    "    in_file.close()\n",
    "    df = pd.DataFrame.from_dict(json_normalize(new_variable), orient='columns')\n",
    "    return df"
   ]
  },
  {
   "cell_type": "code",
   "execution_count": 8,
   "metadata": {},
   "outputs": [],
   "source": [
    "def import_new_sole_json(path, df):\n",
    "    \"\"\"Import the json into the dataframe\n",
    "    \n",
    "    This function receives the path of the following json file \n",
    "    and append this new json file to the dataframe. The \n",
    "    user just need to input the path of a ramdom json file \n",
    "    formatted well with Open mHealth data schemas and the dataframe \n",
    "    which need to be appended.\n",
    "\n",
    "    Args:\n",
    "        path (string): the path of the json file the user want to import\n",
    "        df (dataframe): the dataframe need to be appended\n",
    "\n",
    "    Returns:\n",
    "        dataframe: a pandas dataframe with new and old data in\n",
    "    \"\"\"\n",
    "    import pandas as pd\n",
    "    from pandas.io.json import json_normalize\n",
    "    filename = path\n",
    "    in_file = open(filename, \"r\")\n",
    "    new_variable = json.load(in_file)\n",
    "    in_file.close()\n",
    "    df_new = pd.DataFrame.from_dict(json_normalize(new_variable), orient='columns')\n",
    "    df = df.append(df_new, ignore_index=True)\n",
    "    return df"
   ]
  },
  {
   "cell_type": "code",
   "execution_count": 9,
   "metadata": {},
   "outputs": [
    {
     "data": {
      "text/html": [
       "<div>\n",
       "<style scoped>\n",
       "    .dataframe tbody tr th:only-of-type {\n",
       "        vertical-align: middle;\n",
       "    }\n",
       "\n",
       "    .dataframe tbody tr th {\n",
       "        vertical-align: top;\n",
       "    }\n",
       "\n",
       "    .dataframe thead th {\n",
       "        text-align: right;\n",
       "    }\n",
       "</style>\n",
       "<table border=\"1\" class=\"dataframe\">\n",
       "  <thead>\n",
       "    <tr style=\"text-align: right;\">\n",
       "      <th></th>\n",
       "      <th>temporal_relationship_to_sleep</th>\n",
       "      <th>body_temperature.value</th>\n",
       "      <th>body_temperature.unit</th>\n",
       "      <th>effective_time_frame.date_time</th>\n",
       "    </tr>\n",
       "  </thead>\n",
       "  <tbody>\n",
       "    <tr>\n",
       "      <th>0</th>\n",
       "      <td>on waking</td>\n",
       "      <td>96.5</td>\n",
       "      <td>F</td>\n",
       "      <td>2013-02-05T06:25:00Z</td>\n",
       "    </tr>\n",
       "  </tbody>\n",
       "</table>\n",
       "</div>"
      ],
      "text/plain": [
       "  temporal_relationship_to_sleep  body_temperature.value  \\\n",
       "0                      on waking                    96.5   \n",
       "\n",
       "  body_temperature.unit effective_time_frame.date_time  \n",
       "0                     F           2013-02-05T06:25:00Z  "
      ]
     },
     "execution_count": 9,
     "metadata": {},
     "output_type": "execute_result"
    }
   ],
   "source": [
    "df = initial_sole_json(\"/Users/lubaiying/Desktop/big idea lab/body_temp_sample.json\")\n",
    "df"
   ]
  },
  {
   "cell_type": "code",
   "execution_count": 10,
   "metadata": {},
   "outputs": [
    {
     "data": {
      "text/html": [
       "<div>\n",
       "<style scoped>\n",
       "    .dataframe tbody tr th:only-of-type {\n",
       "        vertical-align: middle;\n",
       "    }\n",
       "\n",
       "    .dataframe tbody tr th {\n",
       "        vertical-align: top;\n",
       "    }\n",
       "\n",
       "    .dataframe thead th {\n",
       "        text-align: right;\n",
       "    }\n",
       "</style>\n",
       "<table border=\"1\" class=\"dataframe\">\n",
       "  <thead>\n",
       "    <tr style=\"text-align: right;\">\n",
       "      <th></th>\n",
       "      <th>temporal_relationship_to_sleep</th>\n",
       "      <th>body_temperature.value</th>\n",
       "      <th>body_temperature.unit</th>\n",
       "      <th>effective_time_frame.date_time</th>\n",
       "    </tr>\n",
       "  </thead>\n",
       "  <tbody>\n",
       "    <tr>\n",
       "      <th>0</th>\n",
       "      <td>on waking</td>\n",
       "      <td>96.5</td>\n",
       "      <td>F</td>\n",
       "      <td>2013-02-05T06:25:00Z</td>\n",
       "    </tr>\n",
       "    <tr>\n",
       "      <th>1</th>\n",
       "      <td>on waking</td>\n",
       "      <td>100.0</td>\n",
       "      <td>F</td>\n",
       "      <td>2013-02-07T08:25:00Z</td>\n",
       "    </tr>\n",
       "  </tbody>\n",
       "</table>\n",
       "</div>"
      ],
      "text/plain": [
       "  temporal_relationship_to_sleep  body_temperature.value  \\\n",
       "0                      on waking                    96.5   \n",
       "1                      on waking                   100.0   \n",
       "\n",
       "  body_temperature.unit effective_time_frame.date_time  \n",
       "0                     F           2013-02-05T06:25:00Z  \n",
       "1                     F           2013-02-07T08:25:00Z  "
      ]
     },
     "execution_count": 10,
     "metadata": {},
     "output_type": "execute_result"
    }
   ],
   "source": [
    "df = import_new_sole_json(\"/Users/lubaiying/Desktop/big idea lab/body_temp_sample2.json\", df)\n",
    "df"
   ]
  },
  {
   "cell_type": "markdown",
   "metadata": {},
   "source": [
    "### Situation 3: All the data is stored in a json file"
   ]
  },
  {
   "cell_type": "code",
   "execution_count": 13,
   "metadata": {},
   "outputs": [],
   "source": [
    "import json\n",
    "my_dictionary_mul = [\n",
    "    {\n",
    "    \"body_temperature\": {\n",
    "        \"value\": 96.5,\n",
    "        \"unit\": \"F\"\n",
    "    },\n",
    "    \"effective_time_frame\": {\n",
    "        \"date_time\": \"2013-02-05T06:25:00Z\"\n",
    "    },\n",
    "    \"temporal_relationship_to_sleep\": \"on waking\"\n",
    "},\n",
    "    {\n",
    "    \"body_temperature\": {\n",
    "        \"value\": 100,\n",
    "        \"unit\": \"F\"\n",
    "    },\n",
    "    \"effective_time_frame\": {\n",
    "        \"date_time\": \"2013-02-07T08:25:00Z\"\n",
    "    },\n",
    "    \"temporal_relationship_to_sleep\": \"on waking\"\n",
    "}\n",
    "]\n",
    "out_file = open(\"/Users/lubaiying/Desktop/big idea lab/body_temp_sample_multiple.json\", \"w\")\n",
    "json.dump(my_dictionary_mul, out_file)\n",
    "out_file.close()"
   ]
  },
  {
   "cell_type": "code",
   "execution_count": 14,
   "metadata": {},
   "outputs": [
    {
     "data": {
      "text/html": [
       "<div>\n",
       "<style scoped>\n",
       "    .dataframe tbody tr th:only-of-type {\n",
       "        vertical-align: middle;\n",
       "    }\n",
       "\n",
       "    .dataframe tbody tr th {\n",
       "        vertical-align: top;\n",
       "    }\n",
       "\n",
       "    .dataframe thead th {\n",
       "        text-align: right;\n",
       "    }\n",
       "</style>\n",
       "<table border=\"1\" class=\"dataframe\">\n",
       "  <thead>\n",
       "    <tr style=\"text-align: right;\">\n",
       "      <th></th>\n",
       "      <th>temporal_relationship_to_sleep</th>\n",
       "      <th>body_temperature.value</th>\n",
       "      <th>body_temperature.unit</th>\n",
       "      <th>effective_time_frame.date_time</th>\n",
       "    </tr>\n",
       "  </thead>\n",
       "  <tbody>\n",
       "    <tr>\n",
       "      <th>0</th>\n",
       "      <td>on waking</td>\n",
       "      <td>96.5</td>\n",
       "      <td>F</td>\n",
       "      <td>2013-02-05T06:25:00Z</td>\n",
       "    </tr>\n",
       "    <tr>\n",
       "      <th>1</th>\n",
       "      <td>on waking</td>\n",
       "      <td>100.0</td>\n",
       "      <td>F</td>\n",
       "      <td>2013-02-07T08:25:00Z</td>\n",
       "    </tr>\n",
       "  </tbody>\n",
       "</table>\n",
       "</div>"
      ],
      "text/plain": [
       "  temporal_relationship_to_sleep  body_temperature.value  \\\n",
       "0                      on waking                    96.5   \n",
       "1                      on waking                   100.0   \n",
       "\n",
       "  body_temperature.unit effective_time_frame.date_time  \n",
       "0                     F           2013-02-05T06:25:00Z  \n",
       "1                     F           2013-02-07T08:25:00Z  "
      ]
     },
     "execution_count": 14,
     "metadata": {},
     "output_type": "execute_result"
    }
   ],
   "source": [
    "filename = \"/Users/lubaiying/Desktop/big idea lab/body_temp_sample_multiple.json\"\n",
    "in_file = open(filename, \"r\")\n",
    "new_variable = json.load(in_file)\n",
    "in_file.close()\n",
    "df_import = pd.DataFrame.from_dict(json_normalize(new_variable), orient='columns')\n",
    "df_import"
   ]
  },
  {
   "cell_type": "markdown",
   "metadata": {},
   "source": [
    "### Well defined function is the same with the \"initial_sole_json\""
   ]
  },
  {
   "cell_type": "code",
   "execution_count": 15,
   "metadata": {},
   "outputs": [],
   "source": [
    "def import_mul_json(path):\n",
    "    \"\"\"Initialize the dataframe\n",
    "    \n",
    "    This function receives the path of the json file with \n",
    "    information of all patient, each patient or encounter \n",
    "    occupies one row in the new formed dataframe. The \n",
    "    user just need to input the path of this json file \n",
    "    formatted well with Open mHealth data schemas.\n",
    "\n",
    "    Args:\n",
    "        path (string): the path of the json file the user want to import\n",
    "\n",
    "    Returns:\n",
    "        dataframe: a pandas dataframe with data in\n",
    "    \"\"\"\n",
    "    import pandas as pd\n",
    "    from pandas.io.json import json_normalize\n",
    "    filename = path\n",
    "    in_file = open(filename, \"r\")\n",
    "    new_variable = json.load(in_file)\n",
    "    in_file.close()\n",
    "    df = pd.DataFrame.from_dict(json_normalize(new_variable), orient='columns')\n",
    "    return df"
   ]
  },
  {
   "cell_type": "code",
   "execution_count": 16,
   "metadata": {},
   "outputs": [
    {
     "data": {
      "text/html": [
       "<div>\n",
       "<style scoped>\n",
       "    .dataframe tbody tr th:only-of-type {\n",
       "        vertical-align: middle;\n",
       "    }\n",
       "\n",
       "    .dataframe tbody tr th {\n",
       "        vertical-align: top;\n",
       "    }\n",
       "\n",
       "    .dataframe thead th {\n",
       "        text-align: right;\n",
       "    }\n",
       "</style>\n",
       "<table border=\"1\" class=\"dataframe\">\n",
       "  <thead>\n",
       "    <tr style=\"text-align: right;\">\n",
       "      <th></th>\n",
       "      <th>temporal_relationship_to_sleep</th>\n",
       "      <th>body_temperature.value</th>\n",
       "      <th>body_temperature.unit</th>\n",
       "      <th>effective_time_frame.date_time</th>\n",
       "    </tr>\n",
       "  </thead>\n",
       "  <tbody>\n",
       "    <tr>\n",
       "      <th>0</th>\n",
       "      <td>on waking</td>\n",
       "      <td>96.5</td>\n",
       "      <td>F</td>\n",
       "      <td>2013-02-05T06:25:00Z</td>\n",
       "    </tr>\n",
       "    <tr>\n",
       "      <th>1</th>\n",
       "      <td>on waking</td>\n",
       "      <td>100.0</td>\n",
       "      <td>F</td>\n",
       "      <td>2013-02-07T08:25:00Z</td>\n",
       "    </tr>\n",
       "  </tbody>\n",
       "</table>\n",
       "</div>"
      ],
      "text/plain": [
       "  temporal_relationship_to_sleep  body_temperature.value  \\\n",
       "0                      on waking                    96.5   \n",
       "1                      on waking                   100.0   \n",
       "\n",
       "  body_temperature.unit effective_time_frame.date_time  \n",
       "0                     F           2013-02-05T06:25:00Z  \n",
       "1                     F           2013-02-07T08:25:00Z  "
      ]
     },
     "execution_count": 16,
     "metadata": {},
     "output_type": "execute_result"
    }
   ],
   "source": [
    "df = import_mul_json(\"/Users/lubaiying/Desktop/big idea lab/body_temp_sample_multiple.json\")\n",
    "df"
   ]
  },
  {
   "cell_type": "code",
   "execution_count": null,
   "metadata": {},
   "outputs": [],
   "source": []
  }
 ],
 "metadata": {
  "kernelspec": {
   "display_name": "Python 3",
   "language": "python",
   "name": "python3"
  },
  "language_info": {
   "codemirror_mode": {
    "name": "ipython",
    "version": 3
   },
   "file_extension": ".py",
   "mimetype": "text/x-python",
   "name": "python",
   "nbconvert_exporter": "python",
   "pygments_lexer": "ipython3",
   "version": "3.7.6"
  }
 },
 "nbformat": 4,
 "nbformat_minor": 2
}
